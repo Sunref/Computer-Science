{
 "cells": [
  {
   "cell_type": "markdown",
   "id": "fb207c6e",
   "metadata": {},
   "source": [
    "# Célula 1 — Instalação de pacotes\n",
    "\n",
    "O que faz:\n",
    "- Executa `pip` para garantir que `pandas`, `matplotlib`, `seaborn` e `scipy` estejam instalados no ambiente do notebook.\n",
    "\n",
    "Observação: útil quando o notebook é aberto em um ambiente limpo. Em ambientes já configurados essa célula pode ser removida ou comentada."
   ]
  },
  {
   "cell_type": "code",
   "execution_count": 2,
   "id": "693af70f",
   "metadata": {},
   "outputs": [],
   "source": [
    "# EXERCÍCIOS PŔE PROVA\n",
    "# Autor: Fernanda Martins da Silva BV3032345\n",
    "!pip install pandas matplotlib seaborn scipy --quiet\n"
   ]
  },
  {
   "cell_type": "markdown",
   "id": "116cb79f",
   "metadata": {},
   "source": [
    "# Célula 2 — Importação e carregamento do CSV\n",
    "\n",
    "O que faz:\n",
    "- Importa `os`, `pandas` e `numpy`.\n",
    "- Lista os arquivos do diretório de trabalho para confirmar o path do CSV.\n",
    "- Lê o arquivo `video-game-sales-with-ratings/vgsales.csv` para o DataFrame `df` e exibe informações iniciais (shape, head, colunas e `df.info()`).\n",
    "\n",
    "Entradas/Saídas: entrada = arquivo CSV; saída = DataFrame `df` e resumo impresso dos tipos e nulos.\n",
    "\n",
    "Observação: verifica se o caminho do CSV está correto antes de prosseguir com a análise."
   ]
  },
  {
   "cell_type": "code",
   "execution_count": null,
   "id": "35f45fd6",
   "metadata": {},
   "outputs": [],
   "source": [
    "import os\n",
    "import pandas as pd\n",
    "import numpy as np\n",
    "\n",
    "# mostrar arquivos na pasta atual para confirmar o CSV\n",
    "print(os.listdir('.'))\n",
    "\n",
    "# carregar (ajuste o nome do arquivo se necessário)\n",
    "df = pd.read_csv('video-game-sales-with-ratings/vgsales.csv')\n",
    "\n",
    "# visão geral\n",
    "print(df.shape)\n",
    "display(df.head())\n",
    "display(df.columns.tolist())\n",
    "df.info()\n"
   ]
  },
  {
   "cell_type": "markdown",
   "id": "b28a05dd",
   "metadata": {},
   "source": [
    "# Célula 3 — Conversão de tipos e tratamento de valores especiais\n",
    "\n",
    "O que faz:\n",
    "- Converte `Year`, `Critic_Score`, `User_Score` (tratando 'tbd') e `Global_Sales` para tipos numéricos usando `pd.to_numeric(..., errors='coerce')`.\n",
    "- Substitui `'tbd'` em `User_Score` por `NaN` antes da conversão.\n",
    "- Mostra a contagem de valores faltantes nas colunas importantes para orientar limpeza adicional.\n",
    "\n",
    "Porque é importante: tipos corretos são necessários para estatísticas e plots numéricos. `errors='coerce'` transforma entradas inválidas em `NaN` — útil para detectar problemas."
   ]
  },
  {
   "cell_type": "code",
   "execution_count": null,
   "id": "d424eecc",
   "metadata": {},
   "outputs": [],
   "source": [
    "# converter Year para numérico\n",
    "df['Year'] = pd.to_numeric(df['Year'], errors='coerce')\n",
    "\n",
    "# tratar User_Score (alguns datasets usam 'tbd' para \"to be determined\")\n",
    "df['User_Score'] = df['User_Score'].replace('tbd', np.nan)\n",
    "df['User_Score'] = pd.to_numeric(df['User_Score'], errors='coerce')\n",
    "\n",
    "# Critic_Score -> numérico\n",
    "df['Critic_Score'] = pd.to_numeric(df['Critic_Score'], errors='coerce')\n",
    "\n",
    "# Global_Sales para numérico (em milhões)\n",
    "df['Global_Sales'] = pd.to_numeric(df['Global_Sales'], errors='coerce')\n",
    "\n",
    "# contar valores faltantes nas colunas importantes\n",
    "cols = ['Name','Platform','Year','Genre','Publisher','Global_Sales','Critic_Score','User_Score']\n",
    "display(df[cols].isna().sum())\n"
   ]
  },
  {
   "cell_type": "markdown",
   "id": "1d79ea65",
   "metadata": {},
   "source": [
    "# Célula 4 — Probabilidades e probabilidades condicionais\n",
    "\n",
    "O que faz:\n",
    "- Calcula várias probabilidades simples e condicionais com base nas colunas categóricas e numéricas do DataFrame:\n",
    "  - P(gênero = 'Action')\n",
    "  - P(publisher = 'Nintendo')\n",
    "  - P(Genre='Sports' | Platform='Wii') (condicional)\n",
    "  - P(Genre='Role-Playing' e Publisher='Square Enix') (conjunta)\n",
    "  - P(Critic_Score >= 90) — jogos 'aclamados'\n",
    "\n",
    "Observações: todas as proporções evitam `NaN` utilizando `.dropna()` e tratam casos com contagem zero."
   ]
  },
  {
   "cell_type": "code",
   "execution_count": null,
   "id": "24bc3476",
   "metadata": {},
   "outputs": [],
   "source": [
    "N_total = len(df)\n",
    "\n",
    "# 1) Probabilidade de ser do gênero \"Action\"\n",
    "p_action = df['Genre'].dropna().eq('Action').sum() / df['Genre'].dropna().shape[0]\n",
    "\n",
    "# 2) Probabilidade de publisher \"Nintendo\"\n",
    "p_nintendo = df['Publisher'].dropna().eq('Nintendo').sum() / df['Publisher'].dropna().shape[0]\n",
    "\n",
    "# 3) Prob condicional: P(Genre='Sports' | Platform='Wii')\n",
    "df_wii = df[df['Platform'] == 'Wii']\n",
    "if len(df_wii) > 0:\n",
    "    p_sports_given_wii = df_wii['Genre'].dropna().eq('Sports').sum() / df_wii['Genre'].dropna().shape[0]\n",
    "else:\n",
    "    p_sports_given_wii = np.nan\n",
    "\n",
    "# 4) Probabilidade de Role-Playing AND Publisher Square Enix\n",
    "joint = df[(df['Genre'] == 'Role-Playing') & (df['Publisher'] == 'Square Enix')]\n",
    "p_joint = joint.shape[0] / N_total\n",
    "\n",
    "# 5) Probabilidade de ser \"aclamado\" (Critic_Score >= 90)\n",
    "crit_valid = df['Critic_Score'].dropna()\n",
    "p_aclamado = (crit_valid >= 90).sum() / crit_valid.shape[0]\n",
    "\n",
    "print(f\"P(genêro=Action) = {p_action:.4f}\")\n",
    "print(f\"P(publisher=Nintendo) = {p_nintendo:.4f}\")\n",
    "print(f\"P(Genre=Sports | Platform=Wii) = {p_sports_given_wii:.4f}\")\n",
    "print(f\"P(Role-Playing e Publisher=Square Enix) = {p_joint:.6f}\")\n",
    "print(f\"P(Critic_Score >= 90) = {p_aclamado:.4f}\")\n"
   ]
  },
  {
   "cell_type": "markdown",
   "id": "25a5fada",
   "metadata": {},
   "source": [
    "# Célula 5 — Estatística descritiva (média, mediana, moda, variância)\n",
    "\n",
    "O que faz:\n",
    "- Calcula média, mediana e moda de `Global_Sales` e dá uma interpretação simples comparando média vs mediana (dica sobre skew).\n",
    "- Calcula variância e desvio padrão (populacional e amostral) para `Critic_Score` e `User_Score`.\n",
    "\n",
    "Observação: a moda pode retornar vários valores; a distinção entre ddof=0 e ddof=1 é didática (populacional vs amostral)."
   ]
  },
  {
   "cell_type": "code",
   "execution_count": null,
   "id": "dfa55da4",
   "metadata": {},
   "outputs": [],
   "source": [
    "# Global_Sales: média, mediana, moda\n",
    "gs = df['Global_Sales'].dropna()\n",
    "mean_gs = gs.mean()\n",
    "median_gs = gs.median()\n",
    "mode_gs = gs.mode()   # pode ter mais de um\n",
    "\n",
    "print(\"Global_Sales — mean:\", mean_gs, \"median:\", median_gs, \"mode(s):\", list(mode_gs))\n",
    "\n",
    "# Diferença média vs mediana -> interpretação\n",
    "if mean_gs > median_gs:\n",
    "    skew_hint = \"direita (cauda à direita) — alguns jogos com vendas muito altas puxam a média para cima\"\n",
    "elif mean_gs < median_gs:\n",
    "    skew_hint = \"esquerda\"\n",
    "else:\n",
    "    skew_hint = \"simétrica (média ~ mediana)\"\n",
    "\n",
    "print(\"Interpretação: distribuição tende a\", skew_hint)\n",
    "\n",
    "# Variância e desvio padrão — Critic_Score e User_Score\n",
    "from math import sqrt\n",
    "for col in ['Critic_Score','User_Score']:\n",
    "    s = df[col].dropna()\n",
    "    var_pop = s.var(ddof=0)   # variância populacional\n",
    "    std_pop = s.std(ddof=0)\n",
    "    var_samp = s.var(ddof=1)  # amostral (padrão pandas .var() usa ddof=1)\n",
    "    std_samp = s.std(ddof=1)\n",
    "    print(f\\\n",
    "    print(f\\\n",
    ")\n",
    "    print(f\\\n",
    ")\n",
    "    print(f\\\n",
    ")\n"
   ]
  },
  {
   "cell_type": "markdown",
   "id": "da3ec5a2",
   "metadata": {},
   "source": [
    "# Célula 6 — Detecção de outliers por IQR (Global_Sales)\n",
    "\n",
    "O que faz:\n",
    "- Calcula Q1, Q3 e IQR; define limites inferior e superior (Q1 - 1.5*IQR, Q3 + 1.5*IQR).\n",
    "- Identifica linhas cujo `Global_Sales` está fora desses limites e mostra as top ocorrências por vendas globais.\n",
    "\n",
    "Observação: identifica jogos com vendas excepcionalmente altas/baixas; útil para decidir transformações ou exclusões."
   ]
  },
  {
   "cell_type": "code",
   "execution_count": null,
   "id": "c1ffed94",
   "metadata": {},
   "outputs": [],
   "source": [
    "Q1 = gs.quantile(0.25)\n",
    "Q3 = gs.quantile(0.75)\n",
    "IQR = Q3 - Q1\n",
    "lower = Q1 - 1.5 * IQR\n",
    "upper = Q3 + 1.5 * IQR\n",
    "\n",
    "outliers = df[(df['Global_Sales'] < lower) | (df['Global_Sales'] > upper)]\n",
    "print(\"IQR:\", IQR, \"lower:\", lower, \"upper:\", upper)\n",
    "print(\"Número de outliers (Global_Sales):\", outliers.shape[0])\n",
    "display(outliers[['Name','Platform','Genre','Global_Sales']].sort_values('Global_Sales', ascending=False).head(10))\n"
   ]
  },
  {
   "cell_type": "markdown",
   "id": "51c7a51d",
   "metadata": {},
   "source": [
    "# Célula 7 — Histogramas e distribuição (Global_Sales, log e Critic_Score)\n",
    "\n",
    "O que faz:\n",
    "- Plota histograma linear de `Global_Sales` e histograma de `log1p(Global_Sales)` (para visualizar melhor a forma quando há muitos outliers).\n",
    "- Plota histograma de `Critic_Score` com KDE.\n",
    "\n",
    "Observação: `log1p` é usado para lidar com zeros; ajuda a enxergar a estrutura central da distribuição."
   ]
  },
  {
   "cell_type": "code",
   "execution_count": null,
   "id": "3e2e40a5",
   "metadata": {},
   "outputs": [],
   "source": [
    "import matplotlib.pyplot as plt\n",
    "import seaborn as sns\n",
    "sns.set(style='whitegrid')\n",
    "\n",
    "# Histograma Global_Sales (linear)\n",
    "plt.figure(figsize=(8,4))\n",
    "sns.histplot(gs, bins=50, kde=False)\n",
    "plt.title(\"Global_Sales (linear)\")\n",
    "plt.xlabel(\"Global_Sales (milhões)\")\n",
    "plt.show()\n",
    "\n",
    "# Global_Sales em log para ver a \"forma\"\n",
    "plt.figure(figsize=(8,4))\n",
    "sns.histplot(np.log1p(gs), bins=50, kde=True)\n",
    "plt.title(\"log1p(Global_Sales)\")\n",
    "plt.xlabel(\"log1p(Global_Sales)\")\n",
    "plt.show()\n",
    "\n",
    "# Critic_Score histograma (0-100)\n",
    "plt.figure(figsize=(8,4))\n",
    "sns.histplot(df['Critic_Score'].dropna(), bins=30, kde=True)\n",
    "plt.title(\"Critic_Score\")\n",
    "plt.show()\n"
   ]
  },
  {
   "cell_type": "markdown",
   "id": "dee1951a",
   "metadata": {},
   "source": [
    "# Célula 8 — Rankings e contagens (Top 10, plataformas e gêneros)\n",
    "\n",
    "O que faz:\n",
    "- Mostra os Top 10 jogos por `Global_Sales`.\n",
    "- Conta o número de jogos por `Platform` e exibe as principais (top 15).\n",
    "- Conta gêneros mais comuns e exibe os principais (top 15).\n",
    "\n",
    "Observação: ajuda a identificar títulos/plataformas/gêneros dominantes no dataset."
   ]
  },
  {
   "cell_type": "code",
   "execution_count": null,
   "id": "f0403881",
   "metadata": {},
   "outputs": [],
   "source": [
    "# 1) Top 10 jogos mais vendidos\n",
    "top10 = df.sort_values('Global_Sales', ascending=False).head(10)\n",
    "display(top10[['Name','Platform','Genre','Global_Sales']])\n",
    "\n",
    "# 2) Plataformas com mais jogos lançados\n",
    "platform_counts = df['Platform'].value_counts()\n",
    "display(platform_counts.head(15))\n",
    "\n",
    "# 3) Gêneros mais comuns\n",
    "genre_counts = df['Genre'].value_counts()\n",
    "display(genre_counts.head(15))\n"
   ]
  },
  {
   "cell_type": "markdown",
   "id": "a32c5eb2",
   "metadata": {},
   "source": [
    "# Célula 9 — Correlações (Pearson e Spearman)\n",
    "\n",
    "O que faz:\n",
    "- Define a função `correlation_report` que calcula Pearson (linear) e Spearman (ordem) entre dois atributos, mostrando coeficiente e p-value.\n",
    "- Executa o relatório para `Critic_Score` vs `Global_Sales` e `User_Score` vs `Global_Sales`.\n",
    "\n",
    "Observação: Pearson avalia relação linear; Spearman avalia associação monotônica. A função verifica se há dados suficientes antes de calcular."
   ]
  },
  {
   "cell_type": "code",
   "execution_count": null,
   "id": "addf0a1d",
   "metadata": {},
   "outputs": [],
   "source": [
    "from scipy.stats import pearsonr, spearmanr\n",
    "\n",
    "def correlation_report(a,b,labelA,labelB):\n",
    "    df_pair = df[[a,b]].dropna()\n",
    "    x = df_pair[a]\n",
    "    y = df_pair[b]\n",
    "    if len(df_pair) < 3:\n",
    "        print(f\"{labelA} vs {labelB}: poucos dados\")\n",
    "        return\n",
    "    pr, pval_pr = pearsonr(x,y)\n",
    "    sr, pval_sr = spearmanr(x,y)\n",
    "    print(f\"{labelA} vs {labelB}: N={len(df_pair)}\")\n",
    "    print(f\"  Pearson r = {pr:.4f}, p-value = {pval_pr:.4g}\")\n",
    "    print(f\"  Spearman rho = {sr:.4f}, p-value = {pval_sr:.4g}\")\n",
    "    print()\n",
    "\n",
    "# Critic_Score vs Global_Sales\n",
    "correlation_report('Critic_Score','Global_Sales','Critic_Score','Global_Sales')\n",
    "\n",
    "# User_Score vs Global_Sales\n",
    "correlation_report('User_Score','Global_Sales','User_Score','Global_Sales')\n"
   ]
  },
  {
   "cell_type": "markdown",
   "id": "f515c987",
   "metadata": {},
   "source": [
    "# Célula 10 — Vendas totais por gênero (barras)\n",
    "\n",
    "O que faz:\n",
    "- Agrupa por `Genre` somando `Global_Sales` e plota um gráfico de barras com os totais por gênero.\n",
    "\n",
    "Observação: mostra quais gêneros contribuíram mais para o total de vendas no dataset."
   ]
  },
  {
   "cell_type": "code",
   "execution_count": null,
   "id": "b5557c66",
   "metadata": {},
   "outputs": [],
   "source": [
    "sales_by_genre = df.groupby('Genre')['Global_Sales'].sum().sort_values(ascending=False)\n",
    "plt.figure(figsize=(10,5))\n",
    "sns.barplot(x=sales_by_genre.index, y=sales_by_genre.values)\n",
    "plt.xticks(rotation=45, ha='right')\n",
    "plt.ylabel('Total Global Sales (milhões)')\n",
    "plt.title('Vendas globais por gênero')\n",
    "plt.show()\n"
   ]
  },
  {
   "cell_type": "markdown",
   "id": "811ab5a0",
   "metadata": {},
   "source": [
    "# Célula 11 — Número de jogos por ano (série temporal)\n",
    "\n",
    "O que faz:\n",
    "- Conta o número de jogos por `Year` (após conversão para numérico) e plota uma série temporal com o número de lançamentos por ano.\n",
    "\n",
    "Observação: `Year` com `NaN` será descartado; útil para ver tendências históricas de publicações."
   ]
  },
  {
   "cell_type": "code",
   "execution_count": null,
   "id": "83c7b27a",
   "metadata": {},
   "outputs": [],
   "source": [
    "games_per_year = df.groupby('Year').size().dropna().astype(int)\n",
    "plt.figure(figsize=(10,4))\n",
    "games_per_year.plot()\n",
    "plt.xlabel('Ano')\n",
    "plt.ylabel('Número de jogos lançados')\n",
    "plt.title('Número de jogos por ano')\n",
    "plt.show()\n"
   ]
  },
  {
   "cell_type": "markdown",
   "id": "64e3f1b2",
   "metadata": {},
   "source": [
    "# Célula 12 — Regressão simples (Critic_Score vs Global_Sales)\n",
    "\n",
    "O que faz:\n",
    "- Plota um scatter entre `Critic_Score` e `Global_Sales` e ajusta uma linha de tendência (regressão) com `sns.regplot`.\n",
    "\n",
    "Observação: visualmente avalia se notas de crítica estão associadas a maiores vendas; atenção a outliers que podem influenciar a reta."
   ]
  },
  {
   "cell_type": "code",
   "execution_count": null,
   "id": "f2f3e2c8",
   "metadata": {},
   "outputs": [],
   "source": [
    "plt.figure(figsize=(7,5))\n",
    "sns.regplot(x='Critic_Score', y='Global_Sales', data=df, scatter_kws={'alpha':0.4, 's':20}, line_kws={'color':'red'})\n",
    "plt.title('Critic_Score vs Global_Sales (com linha de tendência)')\n",
    "plt.show()\n"
   ]
  },
  {
   "cell_type": "markdown",
   "id": "2f8d29d7",
   "metadata": {},
   "source": [
    "# Célula 13 — Boxplot de Global_Sales por plataforma (top 5)\n",
    "\n",
    "O que faz:\n",
    "- Seleciona as 5 plataformas com mais jogos, plota boxplots de `Global_Sales` por plataforma e aplica escala `symlog` no eixo y para reduzir efeito de outliers.\n",
    "\n",
    "Observação: `symlog` preserva zeros e sinais; alternativa comum é transformar a coluna via `log1p` antes do plot."
   ]
  },
  {
   "cell_type": "code",
   "execution_count": null,
   "id": "dd54d52d",
   "metadata": {},
   "outputs": [],
   "source": [
    "# escolher top plataformas por contagem\n",
    "top_platforms = df['Platform'].value_counts().head(5).index.tolist()\n",
    "df_topplat = df[df['Platform'].isin(top_platforms)]\n",
    "\n",
    "plt.figure(figsize=(8,5))\n",
    "sns.boxplot(x='Platform', y='Global_Sales', data=df_topplat)\n",
    "plt.yscale('symlog')  # escala log simétrica para lidar com outliers (opcional)\n",
    "plt.title('Distribuição de Global_Sales por plataforma (top 5)')\n",
    "plt.show()\n"
   ]
  }
 ],
 "metadata": {
  "kernelspec": {
   "display_name": "Python 3",
   "language": "python",
   "name": "python3"
  },
  "language_info": {
   "codemirror_mode": {
    "name": "ipython",
    "version": 3
   },
   "file_extension": ".py",
   "mimetype": "text/x-python",
   "name": "python",
   "nbconvert_exporter": "python",
   "pygments_lexer": "ipython3",
   "version": "3.12.11"
  }
 },
 "nbformat": 4,
 "nbformat_minor": 5
}
