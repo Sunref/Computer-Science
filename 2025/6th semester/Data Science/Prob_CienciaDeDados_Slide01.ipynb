{
 "cells": [
  {
   "cell_type": "code",
   "execution_count": null,
   "id": "efbc9597",
   "metadata": {},
   "outputs": [],
   "source": [
    "# EXERCÍCIOS DE PROBABILIDADE\n",
    "# Autor: Fernanda Martins da Silva BV3032345"
   ]
  },
  {
   "cell_type": "code",
   "execution_count": null,
   "id": "9e40af4d",
   "metadata": {},
   "outputs": [],
   "source": [
    "#SImulação de lançamento de dados\n",
    "\n",
    "import random\n",
    "\n",
    "def simularDados(n):\n",
    "    resultado = [random.randint(1, 6) for _ in range(n)]\n",
    "    return resultado\n",
    "\n",
    "#Jogadas\n",
    "cemJogadas = simularDados(100)\n",
    "milJogadas = simularDados(1000)\n",
    "\n",
    "print(\"Frequências:\")\n",
    "\n",
    "#Frequencias\n",
    "for i in range(1, 7):\n",
    "    freq_cem = cemJogadas.count(i)\n",
    "    freq_mil = milJogadas.count(i)\n",
    "    print(f\"Frequência do número {i} em 100 jogadas: {freq_cem}\")\n",
    "    print(f\"Frequência do número {i} em 1000 jogadas: {freq_mil}\\n\")\n",
    "\n",
    "print(\"-------------------------------------------------\\n\")\n",
    "print(\"Probabilidades:\")\n",
    "\n",
    "#probabilidades\n",
    "for i in range(1, 7):\n",
    "    prob_cem = cemJogadas.count(i) / 100\n",
    "    prob_mil = milJogadas.count(i) / 1000\n",
    "    print(f\"Probabilidade do número {i} em 100 jogadas: {prob_cem:.2f}\")\n",
    "    print(f\"Probabilidade do número {i} em 1000 jogadas: {prob_mil:.2f}\\n\")\n"
   ]
  },
  {
   "cell_type": "code",
   "execution_count": null,
   "id": "7f2a5155",
   "metadata": {},
   "outputs": [],
   "source": [
    "#Simlação de loteria\n",
    "\n",
    "import random\n",
    "\n",
    "meuBilhete = set(random.sample(range(1, 61), 6))\n",
    "print(\"Meu bilhete:\", sorted(meuBilhete))\n",
    "\n",
    "acertos4 = acertos5 = acertos6 = 0\n",
    "simulacoes = 1000000\n",
    "\n",
    "for _ in range(simulacoes):\n",
    "    sorteio = set(random.sample(range(1, 61), 6))\n",
    "    acertos = len(meuBilhete & sorteio)\n",
    "\n",
    "    if acertos == 4:\n",
    "        acertos4 += 1\n",
    "    elif acertos == 5:\n",
    "        acertos5 += 1\n",
    "    elif acertos == 6:\n",
    "        acertos6 += 1\n",
    "\n",
    "prob4 = acertos4 / simulacoes\n",
    "prob5 = acertos5 / simulacoes\n",
    "prob6 = acertos6 / simulacoes\n",
    "\n",
    "print(f\"Probabilidade de acertar 4 números: {prob4:.6f}\")\n",
    "print(f\"Probabilidade de acertar 5 números: {prob5:.6f}\")\n",
    "print(f\"Probabilidade de acertar 6 números: {prob6:.6f}\")"
   ]
  },
  {
   "cell_type": "code",
   "execution_count": 29,
   "id": "ac4aa4f7",
   "metadata": {},
   "outputs": [
    {
     "name": "stdout",
     "output_type": "stream",
     "text": [
      "Após 100 dias: probabilidade de chuva com relâmpagos: 0.4600 (46.00%)\n",
      "\n",
      "Após 1000 dias: probabilidade de chuva com relâmpagos: 0.4460 (44.60%)\n",
      "\n",
      "Após 100000 dias: probabilidade de chuva com relâmpagos: 0.4202 (42.02%)\n",
      "\n"
     ]
    }
   ],
   "source": [
    "#Simulação de previsão de tempo\n",
    "\n",
    "import random\n",
    "\n",
    "def dias(n):\n",
    "    chuvaRelampagos = 0\n",
    "\n",
    "    for i in range(n):\n",
    "        chuva = random.random() < 0.6\n",
    "        \n",
    "        if chuva:\n",
    "            relampago = random.random() < 0.7\n",
    "            if relampago:\n",
    "                chuvaRelampagos += 1\n",
    "    \n",
    "    return chuvaRelampagos / n\n",
    "\n",
    "for n_dias in [100, 1000, 100_000]:\n",
    "    prob = dias(n_dias)\n",
    "    print(f\"Após {n_dias} dias: probabilidade de chuva com relâmpagos: {prob:.4f} ({prob*100:.2f}%)\\n\")\n"
   ]
  }
 ],
 "metadata": {
  "kernelspec": {
   "display_name": "Python 3",
   "language": "python",
   "name": "python3"
  },
  "language_info": {
   "codemirror_mode": {
    "name": "ipython",
    "version": 3
   },
   "file_extension": ".py",
   "mimetype": "text/x-python",
   "name": "python",
   "nbconvert_exporter": "python",
   "pygments_lexer": "ipython3",
   "version": "3.12.11"
  }
 },
 "nbformat": 4,
 "nbformat_minor": 5
}
