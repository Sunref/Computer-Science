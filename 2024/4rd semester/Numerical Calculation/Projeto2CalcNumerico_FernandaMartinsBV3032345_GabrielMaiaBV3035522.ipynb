{
 "cells": [
  {
   "cell_type": "markdown",
   "metadata": {},
   "source": [
    "PROGRAMA 2 (PROJETO 2) - Calc. Num.\n",
    "Alunos / Feito por: \n",
    "    Gabriel Maia Miguel - BV3035522;\n",
    "    Fernanda Martins da Silva - BV3032345;"
   ]
  },
  {
   "cell_type": "code",
   "execution_count": 7,
   "metadata": {},
   "outputs": [
    {
     "name": "stdout",
     "output_type": "stream",
     "text": [
      "Requirement already satisfied: numpy in c:\\users\\gm64x\\appdata\\local\\programs\\python\\python313\\lib\\site-packages (2.2.0)\n",
      "Requirement already satisfied: matplotlib in c:\\users\\gm64x\\appdata\\local\\programs\\python\\python313\\lib\\site-packages (3.10.0)\n",
      "Requirement already satisfied: contourpy>=1.0.1 in c:\\users\\gm64x\\appdata\\local\\programs\\python\\python313\\lib\\site-packages (from matplotlib) (1.3.1)\n",
      "Requirement already satisfied: cycler>=0.10 in c:\\users\\gm64x\\appdata\\local\\programs\\python\\python313\\lib\\site-packages (from matplotlib) (0.12.1)\n",
      "Requirement already satisfied: fonttools>=4.22.0 in c:\\users\\gm64x\\appdata\\local\\programs\\python\\python313\\lib\\site-packages (from matplotlib) (4.55.3)\n",
      "Requirement already satisfied: kiwisolver>=1.3.1 in c:\\users\\gm64x\\appdata\\local\\programs\\python\\python313\\lib\\site-packages (from matplotlib) (1.4.7)\n",
      "Requirement already satisfied: packaging>=20.0 in c:\\users\\gm64x\\appdata\\roaming\\python\\python313\\site-packages (from matplotlib) (24.2)\n",
      "Requirement already satisfied: pillow>=8 in c:\\users\\gm64x\\appdata\\local\\programs\\python\\python313\\lib\\site-packages (from matplotlib) (11.0.0)\n",
      "Requirement already satisfied: pyparsing>=2.3.1 in c:\\users\\gm64x\\appdata\\local\\programs\\python\\python313\\lib\\site-packages (from matplotlib) (3.2.0)\n",
      "Requirement already satisfied: python-dateutil>=2.7 in c:\\users\\gm64x\\appdata\\roaming\\python\\python313\\site-packages (from matplotlib) (2.9.0.post0)\n",
      "Requirement already satisfied: six>=1.5 in c:\\users\\gm64x\\appdata\\roaming\\python\\python313\\site-packages (from python-dateutil>=2.7->matplotlib) (1.17.0)\n",
      "Note: you may need to restart the kernel to use updated packages.\n"
     ]
    }
   ],
   "source": [
    "%pip install numpy matplotlib"
   ]
  },
  {
   "cell_type": "code",
   "execution_count": 8,
   "metadata": {},
   "outputs": [
    {
     "name": "stdout",
     "output_type": "stream",
     "text": [
      "Ajuste de curva polinomial usando o método dos mínimos quadrados\n",
      "Erro: O número de pontos deve ser maior que 1.\n"
     ]
    }
   ],
   "source": [
    "import numpy as np\n",
    "import matplotlib.pyplot as plt\n",
    "\n",
    "def ajustar_polinomio_minimos_quadrados(x, y, grau):\n",
    "    X = np.vander(x, grau + 1, increasing=True)\n",
    "    coeficientes, *_ = np.linalg.lstsq(X, y, rcond=None)\n",
    "    return coeficientes\n",
    "\n",
    "def gerar_curva_ajustada(x, coeficientes):\n",
    "    return sum(c * x**i for i, c in enumerate(coeficientes))\n",
    "\n",
    "def main():\n",
    "    print(\"Ajuste de curva polinomial usando o método dos mínimos quadrados\")\n",
    "    \n",
    "    try:\n",
    "        n = int(input(\"Digite o número de pontos (n > 1): \"))\n",
    "        if n <= 1:\n",
    "            raise ValueError(\"O número de pontos deve ser maior que 1.\")\n",
    "        x, y = [], []\n",
    "\n",
    "        for i in range(n):\n",
    "            xi = float(input(f\"x[{i+1}]: \"))\n",
    "            yi = float(input(f\"y[{i+1}]: \"))\n",
    "            x.append(xi)\n",
    "            y.append(yi)\n",
    "        \n",
    "        x, y = np.array(x), np.array(y)\n",
    "        \n",
    "        while True:\n",
    "            grau = int(input(\"Digite o grau do polinômio (1 para 1º grau, 2 para 2º grau, 3 para 3º grau): \"))\n",
    "            if grau in [1, 2, 3]:\n",
    "                break\n",
    "            print(\"Grau inválido. Escolha entre 1, 2 ou 3.\")\n",
    "        \n",
    "        coeficientes = ajustar_polinomio_minimos_quadrados(x, y, grau)\n",
    "        \n",
    "        print(\"\\nPolinômio ajustado:\")\n",
    "        polinomio = \" + \".join([f\"{coef:.4f}*x^{i}\" if i > 0 else f\"{coef:.4f}\" for i, coef in enumerate(coeficientes)])\n",
    "        print(polinomio.replace(\"x^1\", \"x\").replace(\" + -\", \" - \"))\n",
    "        \n",
    "        x_grafico = np.linspace(min(x), max(x), 100)\n",
    "        y_grafico = gerar_curva_ajustada(x_grafico, coeficientes)\n",
    "        \n",
    "        plt.figure(figsize=(10, 6))\n",
    "        plt.scatter(x, y, color='red', label='Pontos fornecidos')\n",
    "        plt.plot(x_grafico, y_grafico, color='blue', label=f'Curva ajustada (grau {grau})')\n",
    "        plt.title('Ajuste de Curva Polinomial')\n",
    "        plt.xlabel('x')\n",
    "        plt.ylabel('y')\n",
    "        plt.legend()\n",
    "        plt.grid()\n",
    "        plt.show()\n",
    "        \n",
    "    except ValueError as e:\n",
    "        print(f\"Erro: {e}\")\n",
    "\n",
    "if __name__ == \"__main__\":\n",
    "    main()\n"
   ]
  }
 ],
 "metadata": {
  "kernelspec": {
   "display_name": "Python 3",
   "language": "python",
   "name": "python3"
  },
  "language_info": {
   "codemirror_mode": {
    "name": "ipython",
    "version": 3
   },
   "file_extension": ".py",
   "mimetype": "text/x-python",
   "name": "python",
   "nbconvert_exporter": "python",
   "pygments_lexer": "ipython3",
   "version": "3.13.1"
  }
 },
 "nbformat": 4,
 "nbformat_minor": 2
}
